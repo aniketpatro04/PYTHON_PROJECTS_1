{
 "cells": [
  {
   "cell_type": "code",
   "execution_count": 1,
   "metadata": {},
   "outputs": [
    {
     "name": "stdout",
     "output_type": "stream",
     "text": [
      "4\n",
      "989 0 456 37890\n",
      "0 456 989 37890\n"
     ]
    }
   ],
   "source": [
    "def partition(arr, low, high):\n",
    "    i = (low-1)         # index of smaller element\n",
    "    pivot = arr[high]     # pivot\n",
    "  \n",
    "    for j in range(low, high):\n",
    "  \n",
    "        # If current element is smaller than or\n",
    "        # equal to pivot\n",
    "        if arr[j] <= pivot:\n",
    "  \n",
    "            # increment index of smaller element\n",
    "            i = i+1\n",
    "            arr[i], arr[j] = arr[j], arr[i]\n",
    "  \n",
    "    arr[i+1], arr[high] = arr[high], arr[i+1]\n",
    "    return (i+1)\n",
    "\n",
    "def quickSort(arr, low, high):\n",
    "    if len(arr) == 1:\n",
    "        return arr\n",
    "    if low < high:\n",
    "  \n",
    "        # pi is partitioning index, arr[p] is now\n",
    "        # at right place\n",
    "        pi = partition(arr, low, high)\n",
    "  \n",
    "        # Separately sort elements before\n",
    "        # partition and after partition\n",
    "        quickSort(arr, low, pi-1)\n",
    "        quickSort(arr, pi+1, high)\n",
    "\n",
    "n=int(input())\n",
    "arr=list(int(i) for i in input().strip().split(' '))\n",
    "quickSort(arr, 0, len(arr) - 1)\n",
    "print(*arr)"
   ]
  },
  {
   "cell_type": "code",
   "execution_count": null,
   "metadata": {},
   "outputs": [],
   "source": []
  }
 ],
 "metadata": {
  "kernelspec": {
   "display_name": "Python 3",
   "language": "python",
   "name": "python3"
  },
  "language_info": {
   "codemirror_mode": {
    "name": "ipython",
    "version": 3
   },
   "file_extension": ".py",
   "mimetype": "text/x-python",
   "name": "python",
   "nbconvert_exporter": "python",
   "pygments_lexer": "ipython3",
   "version": "3.8.3"
  }
 },
 "nbformat": 4,
 "nbformat_minor": 4
}
